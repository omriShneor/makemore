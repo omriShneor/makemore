{
 "cells": [
  {
   "cell_type": "code",
   "execution_count": 1,
   "id": "5a199889",
   "metadata": {},
   "outputs": [],
   "source": [
    "import numpy\n",
    "import torch\n",
    "import matplotlib.pyplot as plt\n",
    "%matplotlib inline\n",
    "\n",
    "# E01: train a trigram language model, i.e. take two characters as an input to predict the 3rd one. \n",
    "# Feel free to use either counting or a neural net. Evaluate the loss; Did it improve over a bigram model?\n",
    "# E02: split up the dataset randomly into 80% train set, 10% dev set, 10% test set. \n",
    "# Train the bigram and trigram models only on the training set. Evaluate them on dev and test splits. What can you see?"
   ]
  },
  {
   "cell_type": "code",
   "execution_count": 2,
   "id": "5333716a",
   "metadata": {},
   "outputs": [],
   "source": [
    "words = open('names.txt', 'r').read().splitlines()"
   ]
  },
  {
   "cell_type": "code",
   "execution_count": 3,
   "id": "cc30aed2",
   "metadata": {},
   "outputs": [],
   "source": [
    "g = torch.Generator().manual_seed(2147483647)\n",
    "perm = torch.randperm(len(words), generator=g)\n",
    "\n",
    "n = len(words)\n",
    "n_train = int(0.8 * n)\n",
    "n_dev = int(0.1 * n)\n",
    "\n",
    "train_words = [words[i] for i in perm[:n_train]]\n",
    "dev_words = [words[i] for i in perm[n_train:n_train + n_dev]]\n",
    "test_words = [words[i] for i in perm[n_train + n_dev:]]"
   ]
  },
  {
   "cell_type": "code",
   "execution_count": 4,
   "id": "0b944110",
   "metadata": {},
   "outputs": [],
   "source": [
    "chars = sorted(list(set(''.join(words))))\n",
    "ctoi = {c: i+1 for i,c in enumerate(chars)}\n",
    "ctoi['.'] = 0\n",
    "N = torch.zeros((27, 27), dtype=torch.int32)\n",
    "itoc = {i: c for c, i in ctoi.items()}"
   ]
  },
  {
   "cell_type": "code",
   "execution_count": 5,
   "id": "a9035551",
   "metadata": {},
   "outputs": [],
   "source": [
    "import torch.nn.functional as F\n",
    "# NN trigram model\n",
    "def make_trigram_tensors(words_list):\n",
    "    xs, ys = [], []\n",
    "    for w in words_list:\n",
    "        chs = list(f\"..{w}.\")\n",
    "        for i in range(len(chs)-2):\n",
    "            ix1, ix2, y1 = ctoi[chs[i]], ctoi[chs[i+1]], ctoi[chs[i+2]]\n",
    "            xs.append([ix1, ix2])\n",
    "            ys.append(y1)\n",
    "    xs = torch.tensor(xs).long()\n",
    "    ys = torch.tensor(ys)\n",
    "    xs = xs[:, 0] * 27 + xs[:, 1] # Index into a flatten 27*27 = 0,...,728 sequence of numbers.\n",
    "    return xs, ys"
   ]
  },
  {
   "cell_type": "code",
   "execution_count": 6,
   "id": "72956b6e",
   "metadata": {},
   "outputs": [],
   "source": [
    "def train_nn(xs, ys, reg_param=0.01):\n",
    "    #num_examples = xs.shape[0] \n",
    "    g = torch.Generator().manual_seed(2147483647)\n",
    "    W = torch.randn((27*27, 27), generator=g, requires_grad=True) # dim (729, 27)\n",
    "    for _ in range(300):\n",
    "        logits = W[xs] # (num_examples, 27)\n",
    "        loss = F.cross_entropy(logits, ys)\n",
    "        #counts = logits.exp() # softmax step 1\n",
    "        #probs = counts / counts.sum(1, keepdim=True) # softmax step 2\n",
    "        #loss = -probs[torch.arange(num_examples), ys].log().mean() + reg_param*(W**2).mean() # nll = (-1/n) * sum(log(probs)) + regularization\n",
    "\n",
    "        # update\n",
    "        W.grad = None    \n",
    "        loss.backward()\n",
    "\n",
    "        W.data += -100 * W.grad\n",
    "    return W"
   ]
  },
  {
   "cell_type": "code",
   "execution_count": 7,
   "id": "6ed0fdc3",
   "metadata": {},
   "outputs": [],
   "source": [
    "def cross_entropy(logits, ys):\n",
    "    counts = logits.exp()\n",
    "    probs = counts / counts.sum(1, keepdim=True)\n",
    "    loss = -probs[torch.arange(ys.shape[0]), ys].log().mean()\n",
    "    return loss"
   ]
  },
  {
   "cell_type": "code",
   "execution_count": 8,
   "id": "07db90c3",
   "metadata": {},
   "outputs": [],
   "source": [
    "xs, ys = make_trigram_tensors(train_words)"
   ]
  },
  {
   "cell_type": "code",
   "execution_count": 9,
   "id": "38fc4cff",
   "metadata": {},
   "outputs": [
    {
     "name": "stdout",
     "output_type": "stream",
     "text": [
      "Train loss: 2.2626869678497314 for lambda: 0.0001\n",
      "Dev loss: 2.2859621047973633 for lambda: 0.0001\n",
      "Train loss: 2.2626869678497314 for lambda: 0.001\n",
      "Dev loss: 2.2859621047973633 for lambda: 0.001\n",
      "Train loss: 2.2626869678497314 for lambda: 0.01\n",
      "Dev loss: 2.2859621047973633 for lambda: 0.01\n",
      "Train loss: 2.2626869678497314 for lambda: 1\n",
      "Dev loss: 2.2859621047973633 for lambda: 1\n",
      "Train loss: 2.2626869678497314 for lambda: 10\n",
      "Dev loss: 2.2859621047973633 for lambda: 10\n"
     ]
    }
   ],
   "source": [
    "# E03: Evaluate regularization based on dev loss for NN of trigram\n",
    "min_loss, min_W = None, None \n",
    "for i in [0.0001, 0.001, 0.01, 1, 10]:\n",
    "    W = train_nn(xs, ys, reg_param=i)\n",
    "    train_loss_nn = F.cross_entropy(W[xs], ys)\n",
    "    print(f\"Train loss: {train_loss_nn.item()} for lambda: {i}\")\n",
    "    with torch.no_grad():\n",
    "        x_dev, y_dev = make_trigram_tensors(dev_words)\n",
    "        logits = W[x_dev]\n",
    "        dev_loss_nn = F.cross_entropy(logits, y_dev)\n",
    "        print(f\"Dev loss: {dev_loss_nn.item()} for lambda: {i}\")\n",
    "        loss_val = dev_loss_nn.item()\n",
    "        if min_loss is None or loss_val < min_loss:\n",
    "            min_loss = loss_val\n",
    "            min_W = W.detach().clone()\n",
    "\n",
    "W = min_W"
   ]
  },
  {
   "cell_type": "code",
   "execution_count": 10,
   "id": "2ca0e50b",
   "metadata": {},
   "outputs": [
    {
     "name": "stdout",
     "output_type": "stream",
     "text": [
      "test_loss_nn=tensor(2.2784)\n",
      "dev_loss_nn=tensor(2.2860)\n"
     ]
    }
   ],
   "source": [
    "# E02: Evaluate trigram nll on dev and test splits for NN:\n",
    "with torch.no_grad():\n",
    "    x_dev, y_dev = make_trigram_tensors(dev_words)\n",
    "    logits = W[x_dev]\n",
    "    dev_loss_nn = F.cross_entropy(logits, y_dev)\n",
    "\n",
    "    x_test, y_test = make_trigram_tensors(test_words)\n",
    "    logits = W[x_test]\n",
    "    test_loss_nn = F.cross_entropy(logits, y_test)\n",
    "\n",
    "    print(f\"{test_loss_nn=}\")\n",
    "    print(f\"{dev_loss_nn=}\")\n"
   ]
  },
  {
   "cell_type": "code",
   "execution_count": 11,
   "id": "665a7a9e",
   "metadata": {},
   "outputs": [
    {
     "name": "stdout",
     "output_type": "stream",
     "text": [
      "cexzdfzjglkuriana.\n",
      "kayhdell.\n",
      "imilea.\n",
      "noluwan.\n",
      "ka.\n"
     ]
    }
   ],
   "source": [
    "# Sampling\n",
    "g = torch.Generator().manual_seed(2147483647)\n",
    "for i in range(5):\n",
    "  out, ix1, ix2 = [] ,0, 0\n",
    "  while True:\n",
    "    ctx = torch.tensor([ix1 * 27 + ix2])\n",
    "    xenc = F.one_hot(ctx, num_classes=27*27).float()\n",
    "    logits = xenc @ W # prediction for log counts\n",
    "    counts = logits.exp() # counts\n",
    "    p = counts / counts.sum(1, keepdim=True) # probabilities for next char by the model\n",
    "    ix = torch.multinomial(p, num_samples=1, replacement=True, generator=g).item()\n",
    "    out.append(itoc[ix])\n",
    "    if ix == 0:\n",
    "      break\n",
    "    ix1, ix2 = ix2, ix\n",
    "  print(''.join(out))\n",
    "\n",
    "\n"
   ]
  },
  {
   "cell_type": "code",
   "execution_count": 12,
   "id": "2df098fd",
   "metadata": {},
   "outputs": [],
   "source": [
    "# Trigram Histogram Model\n",
    "N = torch.zeros((27, 27, 27), dtype=torch.int32)\n",
    "for w in train_words:\n",
    "    chs = list(f\"..{w}.\")\n",
    "    for i in range(len(chs)-2):\n",
    "        ix1, ix2, y1 = ctoi[chs[i]], ctoi[chs[i+1]], ctoi[chs[i+2]]\n",
    "        N[ix1, ix2, y1]+=1"
   ]
  },
  {
   "cell_type": "code",
   "execution_count": 13,
   "id": "21b3f630",
   "metadata": {},
   "outputs": [],
   "source": [
    "P = (N+1).float() # laplace smoothing\n",
    "P /= P.sum(2, keepdim=True)"
   ]
  },
  {
   "cell_type": "code",
   "execution_count": 14,
   "id": "dcbbdf96",
   "metadata": {},
   "outputs": [
    {
     "name": "stdout",
     "output_type": "stream",
     "text": [
      "nll=tensor(2.2147)\n"
     ]
    }
   ],
   "source": [
    "log_likelihood = 0.0\n",
    "n = 0\n",
    "\n",
    "for w in train_words:\n",
    "    chs = list(f\"..{w}.\")\n",
    "    for i in range(len(chs)-2):\n",
    "        ix1, ix2, y1 = ctoi[chs[i]], ctoi[chs[i+1]], ctoi[chs[i+2]]\n",
    "        prob = P[ix1, ix2, y1]\n",
    "        logprob = torch.log(prob)\n",
    "        log_likelihood += logprob\n",
    "        n+=1\n",
    "\n",
    "nll = -log_likelihood/n\n",
    "print(f\"{nll=}\")"
   ]
  },
  {
   "cell_type": "code",
   "execution_count": 15,
   "id": "7757ae62",
   "metadata": {},
   "outputs": [
    {
     "name": "stdout",
     "output_type": "stream",
     "text": [
      "ce.\n",
      "bra.\n",
      "jalius.\n",
      "ilaziandrevonimilea.\n",
      "nylanak.\n"
     ]
    }
   ],
   "source": [
    "g = torch.Generator().manual_seed(2147483647)\n",
    "for i in range(5):\n",
    "  out = []\n",
    "  ix1, ix2 = 0, 0\n",
    "  while True:\n",
    "    p = P[ix1, ix2]\n",
    "    ix = torch.multinomial(p, num_samples=1, replacement=True, generator=g).item()\n",
    "    out.append(itoc[ix])\n",
    "    if ix == 0:\n",
    "      break\n",
    "    ix1, ix2 = ix2, ix\n",
    "  print(''.join(out))"
   ]
  },
  {
   "cell_type": "code",
   "execution_count": 16,
   "id": "c1af176d",
   "metadata": {},
   "outputs": [],
   "source": [
    "def trigram_counting_nll(words_list, probs_table):\n",
    "    log_likelihood, n = 0.0, 0\n",
    "    for w in words_list:\n",
    "        chs = list(f\"..{w}.\")\n",
    "        for i in range(len(chs) - 2):\n",
    "            ix1, ix2, ix3 = ctoi[chs[i]], ctoi[chs[i+1]], ctoi[chs[i+2]]\n",
    "            log_likelihood += torch.log(probs_table[ix1,ix2,ix3])\n",
    "            n+=1\n",
    "    return -log_likelihood/n"
   ]
  },
  {
   "cell_type": "code",
   "execution_count": 17,
   "id": "3fa17fcd",
   "metadata": {},
   "outputs": [
    {
     "name": "stdout",
     "output_type": "stream",
     "text": [
      "dev_loss_count=tensor(2.2443)\n",
      "test_loss_count=tensor(2.2364)\n"
     ]
    }
   ],
   "source": [
    "# E02: Evaluate trigram nll on dev and test splits for counting model:\n",
    "dev_loss_count = trigram_counting_nll(dev_words, P)\n",
    "test_loss_count = trigram_counting_nll(test_words, P)\n",
    "print(f\"{dev_loss_count=}\")\n",
    "print(f\"{test_loss_count=}\")"
   ]
  }
 ],
 "metadata": {
  "kernelspec": {
   "display_name": ".venv",
   "language": "python",
   "name": "python3"
  },
  "language_info": {
   "codemirror_mode": {
    "name": "ipython",
    "version": 3
   },
   "file_extension": ".py",
   "mimetype": "text/x-python",
   "name": "python",
   "nbconvert_exporter": "python",
   "pygments_lexer": "ipython3",
   "version": "3.10.12"
  }
 },
 "nbformat": 4,
 "nbformat_minor": 5
}
